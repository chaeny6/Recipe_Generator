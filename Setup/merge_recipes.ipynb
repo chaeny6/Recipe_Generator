{
 "cells": [
  {
   "cell_type": "code",
   "execution_count": 1,
   "metadata": {},
   "outputs": [],
   "source": [
    "import json\n",
    "\n",
    "# 파일에서 리스트를 읽어오기\n",
    "def load_list_from_file(filename):\n",
    "    with open(filename, 'r', encoding='utf-8') as file:\n",
    "        return json.load(file)\n",
    "\n",
    "# JSON 파일 로드\n",
    "lunch_recipes = load_list_from_file('lunch_recipes.json')\n",
    "breakfast_recipes = load_list_from_file('breakfast_recipes.json')\n",
    "dinner_recipes = load_list_from_file('dinner_recipes.json')\n",
    "\n",
    "# 레시피에 새로운 value 추가\n",
    "def add_meal_time(recipes, meal_time):\n",
    "    for recipe in recipes:\n",
    "        if 'meal_time' in recipe:\n",
    "            recipe['meal_time'].append(meal_time)\n",
    "        else:\n",
    "            recipe['meal_time'] = [meal_time]\n",
    "    return recipes\n",
    "\n",
    "# 아침/점심/저녁을 구분할 수 있는 value 추가\n",
    "lunch_recipes = add_meal_time(lunch_recipes, '점심')\n",
    "breakfast_recipes = add_meal_time(breakfast_recipes, '아침')\n",
    "dinner_recipes = add_meal_time(dinner_recipes, '저녁')\n",
    "\n",
    "# 레시피 병합\n",
    "merged_recipes = {}\n",
    "\n",
    "def merge_recipes(recipes):\n",
    "    for recipe in recipes:\n",
    "        name = recipe['name']\n",
    "        if name in merged_recipes:\n",
    "            merged_recipes[name]['meal_time'].extend([mt for mt in recipe['meal_time'] if mt not in merged_recipes[name]['meal_time']])\n",
    "        else:\n",
    "            merged_recipes[name] = recipe\n",
    "\n",
    "merge_recipes(lunch_recipes)\n",
    "merge_recipes(breakfast_recipes)\n",
    "merge_recipes(dinner_recipes)\n",
    "\n",
    "# JSON 파일로 저장\n",
    "with open('merged_recipes.json', 'w', encoding='utf-8') as f:\n",
    "    json.dump(list(merged_recipes.values()), f, ensure_ascii=False, indent=4)\n"
   ]
  },
  {
   "cell_type": "code",
   "execution_count": null,
   "metadata": {},
   "outputs": [],
   "source": []
  }
 ],
 "metadata": {
  "kernelspec": {
   "display_name": "base",
   "language": "python",
   "name": "python3"
  },
  "language_info": {
   "codemirror_mode": {
    "name": "ipython",
    "version": 3
   },
   "file_extension": ".py",
   "mimetype": "text/x-python",
   "name": "python",
   "nbconvert_exporter": "python",
   "pygments_lexer": "ipython3",
   "version": "3.11.5"
  }
 },
 "nbformat": 4,
 "nbformat_minor": 2
}
