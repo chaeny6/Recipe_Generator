{
 "cells": [
  {
   "cell_type": "code",
   "execution_count": 1,
   "metadata": {},
   "outputs": [],
   "source": [
    "def load_list_from_file(filename):\n",
    "    with open(filename, 'r', encoding='utf-8') as file:\n",
    "        return [line.strip() for line in file]"
   ]
  },
  {
   "cell_type": "code",
   "execution_count": 2,
   "metadata": {},
   "outputs": [],
   "source": [
    "lunch = load_list_from_file(\"lunch.txt\")\n",
    "breakfast = load_list_from_file(\"breakfast.txt\")\n",
    "dinner = load_list_from_file(\"dinner.txt\")"
   ]
  },
  {
   "cell_type": "code",
   "execution_count": 11,
   "metadata": {},
   "outputs": [],
   "source": [
    "import requests, json\n",
    "from bs4 import BeautifulSoup\n",
    "\n",
    "def food_info(name):\n",
    "    '''\n",
    "    This function gives you food information for the given input.\n",
    "\n",
    "    PARAMETERS\n",
    "        - name(str): name of Korean food in Korean ex) food_info(\"김치찌개\")\n",
    "    RETURN\n",
    "        - res(list): list of dict that containing info for some Korean food related to 'name'\n",
    "        - res['name'](str): name of food\n",
    "        - res['ingredients'](str): ingredients to make the food\n",
    "        - res['recipe'](list[str]): contain recipe in order\n",
    "    '''\n",
    "    url = f\"https://www.10000recipe.com/recipe/list.html?q={name}\"\n",
    "    response = requests.get(url)\n",
    "    if response.status_code == 200:\n",
    "        html = response.text\n",
    "        soup = BeautifulSoup(html, 'html.parser')\n",
    "    else: \n",
    "        print(\"HTTP response error :\", response.status_code)\n",
    "        return\n",
    "    \n",
    "    food_list = soup.find_all(attrs={'class':'common_sp_link'})\n",
    "    if not food_list:\n",
    "        print(f\"No recipe found for {name}\")\n",
    "        return\n",
    "    \n",
    "    food_id = food_list[0]['href'].split('/')[-1]\n",
    "    new_url = f'https://www.10000recipe.com/recipe/{food_id}'\n",
    "    new_response = requests.get(new_url)\n",
    "    if new_response.status_code == 200:\n",
    "        html = new_response.text\n",
    "        soup = BeautifulSoup(html, 'html.parser')\n",
    "    else: \n",
    "        print(\"HTTP response error :\", new_response.status_code)\n",
    "        return\n",
    "    \n",
    "    food_info = soup.find(attrs={'type':'application/ld+json'})\n",
    "    result = json.loads(food_info.text)\n",
    "    ingredient = ','.join(result['recipeIngredient'])\n",
    "    recipe = [result['recipeInstructions'][i]['text'] for i in range(len(result['recipeInstructions']))]\n",
    "    for i in range(len(recipe)):\n",
    "        recipe[i] = f'{i+1}. ' + recipe[i]\n",
    "    \n",
    "    res = {\n",
    "        'name': name,\n",
    "        'ingredients': ingredient,\n",
    "        'recipe': recipe\n",
    "    }\n",
    "\n",
    "    return res"
   ]
  },
  {
   "cell_type": "code",
   "execution_count": 7,
   "metadata": {},
   "outputs": [
    {
     "name": "stdout",
     "output_type": "stream",
     "text": [
      "['김치찌개', '된장찌개', '순두부찌개', '북엇국', '미역국', '감자국', '떡국', '콩나물국', '소고기무국', '시래기국', '오이냉국', '비빔밥', '돌솥비빔밥', '김치볶음밥', '참치마요덮밥', '오므라이스', '카레라이스', '제육볶음', '소불고기', '닭갈비', '오징어볶음', '낙지볶음', '김치찜', '돼지갈비찜', '소갈비찜', '닭볶음탕', '고등어조림', '꽁치조림', '두부조림', '감자조림', '연근조림', '멸치볶음', '진미채볶음', '어묵볶음', '콩자반', '시금치나물', '콩나물무침', '도라지무침', '고사리나물', '잡채', '김밥', '충무김밥', '삼각김밥', '주먹밥', '유부초밥', '계란말이', '계란찜', '두부부침', '감자전', '김치전', '해물파전', '호박전', '깻잎전', '동태찌개', '부대찌개', '알탕', '매운탕', '육개장', '갈비탕', '설렁탕', '삼계탕', '순대국', '돼지국밥', '소고기국밥', '버섯전골', '샤부샤부', '곰탕', '콩비지찌개', '칼국수', '비빔국수', '물냉면', '비빔냉면', '쫄면', '라면', '짜장면', '짬뽕', '우동', '야끼우동', '볶음우동', '떡볶이', '순대볶음', '치킨', '양념치킨', '간장치킨', '닭강정', '탕수육', '깐풍기', '마파두부', '짜장밥', '탕수육덮밥', '치킨마요덮밥', '소고기덮밥', '오징어덮밥', '카츠동', '규동', '텐동', '유린기', '팔보채', '양장피', '새우튀김', '돈가스', '생선가스']\n"
     ]
    }
   ],
   "source": [
    "print(lunch)"
   ]
  },
  {
   "cell_type": "code",
   "execution_count": 8,
   "metadata": {},
   "outputs": [
    {
     "data": {
      "text/plain": [
       "{'name': '북엇국',\n",
       " 'ingredients': '북어 2줌,무 적당량,달걀1개,멸치다시마육수 6컵,대파 약간,참기름 1큰술,다진마늘 0.5큰술,참치액 1큰술,새우젓 1큰술',\n",
       " 'recipe': ['1. 무는 먹기 좋은 크기로 썰어주고. 대파도 송송 썰고',\n",
       "  '2. 북어는 물에 살짝 담가 물기를 제거하고 팬에 참기름1,참치액1 그리고 북어를 넣고 달달 볶다~',\n",
       "  '3. 썰어놓은 무를 넣고 볶아주다',\n",
       "  '4. 멸치다시마육수6컵을 부어주고',\n",
       "  '5. 다진마늘 0.5',\n",
       "  '6. 새우젓1 넣고 바글 바글 끓여줍니다. 무와 북어에서 맛이 우러나도록 ~',\n",
       "  '7. 국이 거의 완성될쯤 (무가 익으면 되겠죠) 달걀1개를 풀어 빙~~둘러 부어줍니다. 이때 숟가락으로 젓지 마시고 그냥 두심 되요.',\n",
       "  '8. 대파 넣고 한소끔 더 끓여 마무리 달걀 넣고 오랫동안 끓이는것 보다 마지막에 넣어 살짝 끓여 마무리 하는게 달걀이 부드럽고 맛있어요. 기호에 따라 후추가루를 넣어도 좋아요 (부족한 간은 소금으로 해주세요)',\n",
       "  '9. 북엇국 완성 무도 넣고 달걀도 풀어주고 시원하고 뜨끈한 국 한그릇']}"
      ]
     },
     "execution_count": 8,
     "metadata": {},
     "output_type": "execute_result"
    }
   ],
   "source": [
    "food_info('북엇국')"
   ]
  },
  {
   "cell_type": "code",
   "execution_count": 12,
   "metadata": {},
   "outputs": [
    {
     "name": "stdout",
     "output_type": "stream",
     "text": [
      "Error occurred for 시금치나물: 'recipeIngredient'\n"
     ]
    }
   ],
   "source": [
    "lunch_recipes = []\n",
    "failed_recipes = []\n",
    "\n",
    "for dish in lunch:\n",
    "    try:\n",
    "        recipe_info = food_info(dish)\n",
    "        if recipe_info:\n",
    "            lunch_recipes.append(recipe_info)\n",
    "        else:\n",
    "            failed_recipes.append(dish)\n",
    "    except Exception as e:\n",
    "        print(f\"Error occurred for {dish}: {e}\")\n",
    "        failed_recipes.append(dish)\n",
    "\n",
    "# JSON 파일로 저장\n",
    "with open('lunch_recipes.json', 'w', encoding='utf-8') as f:\n",
    "    json.dump(lunch_recipes, f, ensure_ascii=False, indent=4)\n",
    "\n",
    "# 실패한 레시피 리스트 저장\n",
    "with open('lunch_failed_recipes.json', 'w', encoding='utf-8') as f:\n",
    "    json.dump(failed_recipes, f, ensure_ascii=False, indent=4)"
   ]
  },
  {
   "cell_type": "code",
   "execution_count": 13,
   "metadata": {},
   "outputs": [
    {
     "name": "stdout",
     "output_type": "stream",
     "text": [
      "Error occurred for 시금치나물: 'recipeIngredient'\n"
     ]
    }
   ],
   "source": [
    "dinner_recipes = []\n",
    "failed_recipes = []\n",
    "\n",
    "for dish in dinner:\n",
    "    try:\n",
    "        recipe_info = food_info(dish)\n",
    "        if recipe_info:\n",
    "            dinner_recipes.append(recipe_info)\n",
    "        else:\n",
    "            failed_recipes.append(dish)\n",
    "    except Exception as e:\n",
    "        print(f\"Error occurred for {dish}: {e}\")\n",
    "        failed_recipes.append(dish)\n",
    "\n",
    "# JSON 파일로 저장\n",
    "with open('dinner_recipes.json', 'w', encoding='utf-8') as f:\n",
    "    json.dump(dinner_recipes, f, ensure_ascii=False, indent=4)\n",
    "\n",
    "# 실패한 레시피 리스트 저장\n",
    "with open('dinner_failed_recipes.json', 'w', encoding='utf-8') as f:\n",
    "    json.dump(failed_recipes, f, ensure_ascii=False, indent=4)"
   ]
  },
  {
   "cell_type": "code",
   "execution_count": 15,
   "metadata": {},
   "outputs": [
    {
     "name": "stdout",
     "output_type": "stream",
     "text": [
      "Error occurred for 두유: 'recipeIngredient'\n",
      "Error occurred for 팥죽: 'recipeIngredient'\n",
      "Error occurred for 검은콩죽: 'recipeIngredient'\n",
      "Error occurred for 유자차: 'recipeIngredient'\n",
      "Error occurred for 찐빵: 'NoneType' object has no attribute 'text'\n"
     ]
    }
   ],
   "source": [
    "breakfast_recipes = []\n",
    "breakfast_failed_recipes = []\n",
    "\n",
    "for dish in breakfast:\n",
    "    try:\n",
    "        recipe_info = food_info(dish)\n",
    "        if recipe_info:\n",
    "            breakfast_recipes.append(recipe_info)\n",
    "        else:\n",
    "            failed_recipes.append(dish)\n",
    "    except Exception as e:\n",
    "        print(f\"Error occurred for {dish}: {e}\")\n",
    "        failed_recipes.append(dish)\n",
    "\n",
    "# JSON 파일로 저장\n",
    "with open('breakfast_recipes.json', 'w', encoding='utf-8') as f:\n",
    "    json.dump(breakfast_recipes, f, ensure_ascii=False, indent=4)\n",
    "\n",
    "# 실패한 레시피 리스트 저장\n",
    "with open('breakfast_failed_recipes.json', 'w', encoding='utf-8') as f:\n",
    "    json.dump(breakfast_failed_recipes, f, ensure_ascii=False, indent=4)"
   ]
  },
  {
   "cell_type": "code",
   "execution_count": null,
   "metadata": {},
   "outputs": [],
   "source": []
  }
 ],
 "metadata": {
  "kernelspec": {
   "display_name": "base",
   "language": "python",
   "name": "python3"
  },
  "language_info": {
   "codemirror_mode": {
    "name": "ipython",
    "version": 3
   },
   "file_extension": ".py",
   "mimetype": "text/x-python",
   "name": "python",
   "nbconvert_exporter": "python",
   "pygments_lexer": "ipython3",
   "version": "3.11.5"
  }
 },
 "nbformat": 4,
 "nbformat_minor": 2
}
